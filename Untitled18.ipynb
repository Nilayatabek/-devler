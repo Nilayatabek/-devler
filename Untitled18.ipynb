{
 "cells": [
  {
   "cell_type": "code",
   "execution_count": 1,
   "id": "19070661",
   "metadata": {},
   "outputs": [],
   "source": [
    "import numpy as np\n",
    "from keras.datasets import fashion_mnist\n",
    "from sklearn.model_selection import train_test_split\n",
    "from sklearn.tree import DecisionTreeClassifier\n",
    "from sklearn.metrics import accuracy_score"
   ]
  },
  {
   "cell_type": "code",
   "execution_count": 2,
   "id": "517ad18e",
   "metadata": {},
   "outputs": [],
   "source": [
    "# Fashion MNIST veri kümesini yükledik\n",
    "(x_train, y_train), (x_test, y_test) = fashion_mnist.load_data()"
   ]
  },
  {
   "cell_type": "code",
   "execution_count": 3,
   "id": "9bce957f",
   "metadata": {},
   "outputs": [],
   "source": [
    "# Veri kümesini normalize etme\n",
    "x_train = x_train.reshape((x_train.shape[0], -1)) / 255.0\n",
    "x_test = x_test.reshape((x_test.shape[0], -1)) / 255.0"
   ]
  },
  {
   "cell_type": "code",
   "execution_count": 4,
   "id": "1e939d3b",
   "metadata": {},
   "outputs": [],
   "source": [
    "# Eğitim ve test setleri\n",
    "x_train, x_val, y_train, y_val = train_test_split(x_train, y_train, test_size=0.2, random_state=42)\n"
   ]
  },
  {
   "cell_type": "code",
   "execution_count": 5,
   "id": "11892979",
   "metadata": {},
   "outputs": [],
   "source": [
    "# Karar Ağacı modelini eğitme\n",
    "def train_decision_tree(max_depth=None, min_samples_split=2):\n",
    "    model = DecisionTreeClassifier(max_depth=max_depth, min_samples_split=min_samples_split, random_state=42)\n",
    "    model.fit(x_train, y_train)\n",
    "    return model"
   ]
  },
  {
   "cell_type": "code",
   "execution_count": 6,
   "id": "18e43fd6",
   "metadata": {},
   "outputs": [],
   "source": [
    "max_depth = 10 \n",
    "min_samples_split = 2 \n",
    "model = train_decision_tree(max_depth=max_depth, min_samples_split=min_samples_split)"
   ]
  },
  {
   "cell_type": "code",
   "execution_count": 7,
   "id": "9c7636a1",
   "metadata": {},
   "outputs": [
    {
     "name": "stdout",
     "output_type": "stream",
     "text": [
      "Training Accuracy: 0.8510833333333333\n",
      "Validation Accuracy: 0.80575\n",
      "Test Accuracy: 0.8011\n"
     ]
    }
   ],
   "source": [
    "# Model performansı\n",
    "y_pred_train = model.predict(x_train)\n",
    "y_pred_val = model.predict(x_val)\n",
    "y_pred_test = model.predict(x_test)\n",
    "\n",
    "accuracy_train = accuracy_score(y_train, y_pred_train)\n",
    "accuracy_val = accuracy_score(y_val, y_pred_val)\n",
    "accuracy_test = accuracy_score(y_test, y_pred_test)\n",
    "\n",
    "print(f\"Training Accuracy: {accuracy_train}\")\n",
    "print(f\"Validation Accuracy: {accuracy_val}\")\n",
    "print(f\"Test Accuracy: {accuracy_test}\")"
   ]
  },
  {
   "cell_type": "markdown",
   "id": "b1f70998",
   "metadata": {},
   "source": [
    "max_depth (Maksimum Derinlik): Karar ağacının maksimum derinliğini belirten bir parametredir. Bir karar ağacı ne kadar derinse, daha karmaşık ilişkileri öğrenebilir, ancak aynı zamanda aşırı uyum (overfitting) riski de artar. Overfitting, modelin eğitim verilerine aşırı derecede uyması ve genelleme yeteneğini kaybetmesi durumudur.\n",
    "\n",
    "min_samples_split (Minimum Örnek Bölme): Bir düğümü bölmeden önce en az kaç örneğin bulunması gerektiğini belirten bir parametredir. Bu değer küçükse, model daha fazla bölme yaparak eğitim verilerine daha fazla uyarlanabilir, ancak bu da overfitting riskini artırabilir. Bu parametre, modelin bölünmeleri ne kadar detaylı yapacağını kontrol eder.\n",
    "\n",
    "Daha büyük bir max_depth veya daha küçük bir min_samples_split daha karmaşık bir model oluşturabilir, ancak aynı zamanda overfitting riskini artırabilir. Tersine, daha küçük bir max_depth veya daha büyük bir min_samples_split daha basit bir model oluşturabilir, ancak underfitting riskini artırabilir."
   ]
  },
  {
   "cell_type": "code",
   "execution_count": 11,
   "id": "71ff5ff4",
   "metadata": {},
   "outputs": [],
   "source": [
    "#daha büyük depth değeri ile modeli tekrar eğitme\n",
    "max_depth = 15  \n",
    "min_samples_split = 2  \n",
    "model = train_decision_tree(max_depth=max_depth, min_samples_split=min_samples_split)"
   ]
  },
  {
   "cell_type": "code",
   "execution_count": 12,
   "id": "65df5416",
   "metadata": {},
   "outputs": [
    {
     "name": "stdout",
     "output_type": "stream",
     "text": [
      "Training Accuracy: 0.9464791666666666\n",
      "Validation Accuracy: 0.814\n",
      "Test Accuracy: 0.8089\n"
     ]
    }
   ],
   "source": [
    "y_pred_train = model.predict(x_train)\n",
    "y_pred_val = model.predict(x_val)\n",
    "y_pred_test = model.predict(x_test)\n",
    "\n",
    "accuracy_train = accuracy_score(y_train, y_pred_train)\n",
    "accuracy_val = accuracy_score(y_val, y_pred_val)\n",
    "accuracy_test = accuracy_score(y_test, y_pred_test)\n",
    "\n",
    "print(f\"Training Accuracy: {accuracy_train}\")\n",
    "print(f\"Validation Accuracy: {accuracy_val}\")\n",
    "print(f\"Test Accuracy: {accuracy_test}\")"
   ]
  },
  {
   "cell_type": "markdown",
   "id": "a0db48d7",
   "metadata": {},
   "source": [
    "depth değerini 10'dan 15'e çıkarmak tüm accuracy değerlerini arttırdı, yani overfitting tehlikesi şimdilik yok. Biraz daha arttırarak değer değişimlerini gözlemleyebiliriz:"
   ]
  },
  {
   "cell_type": "code",
   "execution_count": 13,
   "id": "7b5292d8",
   "metadata": {},
   "outputs": [],
   "source": [
    "max_depth = 20  \n",
    "min_samples_split = 2  \n",
    "model = train_decision_tree(max_depth=max_depth, min_samples_split=min_samples_split)"
   ]
  },
  {
   "cell_type": "code",
   "execution_count": 14,
   "id": "47ba004a",
   "metadata": {
    "scrolled": true
   },
   "outputs": [
    {
     "name": "stdout",
     "output_type": "stream",
     "text": [
      "Training Accuracy: 0.9858333333333333\n",
      "Validation Accuracy: 0.8084166666666667\n",
      "Test Accuracy: 0.7937\n"
     ]
    }
   ],
   "source": [
    "y_pred_train = model.predict(x_train)\n",
    "y_pred_val = model.predict(x_val)\n",
    "y_pred_test = model.predict(x_test)\n",
    "\n",
    "accuracy_train = accuracy_score(y_train, y_pred_train)\n",
    "accuracy_val = accuracy_score(y_val, y_pred_val)\n",
    "accuracy_test = accuracy_score(y_test, y_pred_test)\n",
    "\n",
    "print(f\"Training Accuracy: {accuracy_train}\")\n",
    "print(f\"Validation Accuracy: {accuracy_val}\")\n",
    "print(f\"Test Accuracy: {accuracy_test}\")"
   ]
  },
  {
   "cell_type": "markdown",
   "id": "b7edc225",
   "metadata": {},
   "source": [
    "depth değerini 20 yaptıktan sonra trainin accuracy artmış olsa bile test ve validation accuracy değerleri azaldı. Yani overfitting problemleri ortaya çıkmaya başladı."
   ]
  }
 ],
 "metadata": {
  "kernelspec": {
   "display_name": "Python 3 (ipykernel)",
   "language": "python",
   "name": "python3"
  },
  "language_info": {
   "codemirror_mode": {
    "name": "ipython",
    "version": 3
   },
   "file_extension": ".py",
   "mimetype": "text/x-python",
   "name": "python",
   "nbconvert_exporter": "python",
   "pygments_lexer": "ipython3",
   "version": "3.10.2"
  }
 },
 "nbformat": 4,
 "nbformat_minor": 5
}
